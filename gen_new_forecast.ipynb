{
 "cells": [
  {
   "cell_type": "code",
   "execution_count": 1,
   "metadata": {},
   "outputs": [],
   "source": [
    "import pandas as pd\n",
    "import numpy as np\n",
    "import datetime\n",
    "from dateutil.relativedelta import relativedelta\n",
    "import requests\n",
    "from secrets import FRED_api_key\n",
    "from secrets import eia_api_key\n",
    "import matplotlib.pyplot as plt\n",
    "%matplotlib inline\n",
    "\n",
    "from src.functions import (get_calibration_data, get_by_parts_calibration_data, \n",
    "calibration_check, mape_calc, report_calibration, volatility, specifier, \n",
    "gen_forecast_w, gen_forecast_bp, get_specifications, ensamble_forecast, \n",
    "check_for_updates, update_and_clean, add_periods, make_ready, graph_forecast)"
   ]
  },
  {
   "cell_type": "code",
   "execution_count": 4,
   "metadata": {},
   "outputs": [],
   "source": [
    "if check_for_updates() == True:\n",
    "    df = update_and_clean()\n",
    "    point, low, high = ensamble_forecast(df,'gdp',actual=False)\n",
    "    a_point, a_low, a_high = ensamble_forecast(df,'gdp',actual=True)\n",
    "    "
   ]
  },
  {
   "cell_type": "code",
   "execution_count": null,
   "metadata": {},
   "outputs": [],
   "source": [
    "graph_forecast(df, 'pcgdp', low, high, point, '6 Month U.S. Economic Forecast', 'Percentage Change in GDP')"
   ]
  },
  {
   "cell_type": "code",
   "execution_count": null,
   "metadata": {},
   "outputs": [],
   "source": [
    "graph_forecast(df, 'gdp', a_low, a_high, a_point, '6 Month U.S. Economic Forecast', 'Real GDP, Billions')"
   ]
  },
  {
   "cell_type": "code",
   "execution_count": null,
   "metadata": {},
   "outputs": [],
   "source": []
  }
 ],
 "metadata": {
  "kernelspec": {
   "display_name": "Python 3",
   "language": "python",
   "name": "python3"
  },
  "language_info": {
   "codemirror_mode": {
    "name": "ipython",
    "version": 3
   },
   "file_extension": ".py",
   "mimetype": "text/x-python",
   "name": "python",
   "nbconvert_exporter": "python",
   "pygments_lexer": "ipython3",
   "version": "3.7.3"
  }
 },
 "nbformat": 4,
 "nbformat_minor": 4
}
